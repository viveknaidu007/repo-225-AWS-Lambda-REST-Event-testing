{
 "cells": [
  {
   "cell_type": "code",
   "execution_count": null,
   "metadata": {},
   "outputs": [],
   "source": [
    "#our first thing is below commnd for using specific database\n",
    "\n",
    "use Databasename;\n",
    "\n",
    "\n",
    "use AR_SaaS;\n",
    "\n"
   ]
  },
  {
   "cell_type": "code",
   "execution_count": null,
   "metadata": {},
   "outputs": [],
   "source": [
    "#create new table in database:\n",
    "\n",
    "CREATE TABLE vivek (\n",
    "    name VARCHAR(100) NOT NULL,\n",
    "    id INT AUTO_INCREMENT PRIMARY KEY,\n",
    "    age INT,\n",
    "    email VARCHAR(100),\n",
    "    created_at TIMESTAMP DEFAULT CURRENT_TIMESTAMP\n",
    ");\n"
   ]
  },
  {
   "cell_type": "code",
   "execution_count": null,
   "metadata": {},
   "outputs": [],
   "source": [
    "# for adding speicifc column in Table \n",
    "\n",
    "ALTER TABLE table_name\n",
    "ADD COLUMN column_name column_definition;\n",
    "\n",
    "\n",
    "ALTER TABLE vivek\n",
    "ADD COLUMN new_column VARCHAR(255);\n"
   ]
  },
  {
   "cell_type": "code",
   "execution_count": null,
   "metadata": {},
   "outputs": [],
   "source": [
    "#to delete (drop) a specific column from an existing table in SQL:\n",
    "\n",
    "ALTER TABLE table_name\n",
    "DROP COLUMN column_name;\n",
    "\n",
    "\n",
    "ALTER TABLE vivek\n",
    "DROP COLUMN new_column;\n"
   ]
  },
  {
   "cell_type": "code",
   "execution_count": null,
   "metadata": {},
   "outputs": [],
   "source": [
    "#for renaming the exisitng table :\n",
    "\n",
    "RENAME TABLE vivek TO vivek_old;\n"
   ]
  },
  {
   "cell_type": "code",
   "execution_count": null,
   "metadata": {
    "vscode": {
     "languageId": "plaintext"
    }
   },
   "outputs": [],
   "source": []
  },
  {
   "cell_type": "markdown",
   "metadata": {},
   "source": [
    "In SQL, you generally cannot change the order of columns in an existing table directly. However, you can achieve this by following these steps:\n",
    "\n",
    "### Steps to Change Column Order:\n",
    "1. **Rename the Existing Table** (backup).\n",
    "2. **Create a New Table** with the Desired Column Order.\n",
    "3. **Copy Data from the Old Table** to the New Table.\n",
    "4. **Drop the Old Table**.\n",
    "5. **Rename the New Table** to the Original Table Name.\n",
    "\n",
    "### Example:\n",
    "Assume the existing table `vivek` has columns in this order: `id`, `name`, `age`, `email`, `created_at`. You want to make `name` the first column.\n",
    "\n",
    "#### Step 1: Rename the Existing Table\n",
    "```sql\n",
    "RENAME TABLE vivek TO vivek_old;\n",
    "```\n",
    "\n",
    "#### Step 2: Create a New Table with Desired Column Order\n",
    "```sql\n",
    "CREATE TABLE vivek (\n",
    "    name VARCHAR(100) NOT NULL,\n",
    "    id INT AUTO_INCREMENT PRIMARY KEY,\n",
    "    age INT,\n",
    "    email VARCHAR(100),\n",
    "    created_at TIMESTAMP DEFAULT CURRENT_TIMESTAMP\n",
    ");\n",
    "```\n",
    "\n",
    "#### Step 3: Copy Data from Old Table to New Table\n",
    "```sql\n",
    "INSERT INTO vivek (name, id, age, email, created_at)\n",
    "SELECT name, id, age, email, created_at\n",
    "FROM vivek_old;\n",
    "```\n",
    "\n",
    "#### Step 4: Drop the Old Table\n",
    "```sql\n",
    "DROP TABLE vivek_old;\n",
    "```\n",
    "\n",
    "#### Step 5: Verify the New Table\n",
    "You can verify the column order using:\n",
    "```sql\n",
    "DESCRIBE vivek;\n",
    "```\n",
    "\n",
    "Now the `name` column will appear first in the table `vivek`.\n",
    "\n",
    "Would you like any help automating these steps or ensuring data integrity?"
   ]
  }
 ],
 "metadata": {
  "language_info": {
   "name": "python"
  }
 },
 "nbformat": 4,
 "nbformat_minor": 2
}
