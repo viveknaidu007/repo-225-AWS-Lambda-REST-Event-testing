{
 "cells": [
  {
   "cell_type": "code",
   "execution_count": null,
   "metadata": {
    "vscode": {
     "languageId": "plaintext"
    }
   },
   "outputs": [],
   "source": [
    "{\n",
    "  \"httpMethod\": \"POST\",\n",
    "  \"path\": \"/signup\",\n",
    "  \"headers\": {\n",
    "    \"Host\": \"https://l8lal.amazonaws.com/sdx\",  // ur route\n",
    "    \"Content-Type\": \"application/json\"\n",
    "  },\n",
    "  \"queryStringParameters\": null,\n",
    "  \"body\": \"{ \\\"email_id\\\": \\\"example@example.com\\\", \\\"password\\\": \\\"securepassword\\\", \\\"cust_name\\\": \\\"John Doe\\\" }\",\n",
    "  \"isBase64Encoded\": false\n",
    "}"
   ]
  }
 ],
 "metadata": {
  "language_info": {
   "name": "python"
  }
 },
 "nbformat": 4,
 "nbformat_minor": 2
}
